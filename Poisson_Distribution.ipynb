{
 "cells": [
  {
   "cell_type": "code",
   "execution_count": 34,
   "metadata": {},
   "outputs": [],
   "source": [
    "import pandas as pd\n",
    "from patsy import dmatrices\n",
    "import numpy as np\n",
    "import statsmodels.api as sm\n",
    "import matplotlib.pyplot as plt"
   ]
  },
  {
   "cell_type": "code",
   "execution_count": 35,
   "metadata": {},
   "outputs": [
    {
     "data": {
      "text/html": [
       "<div>\n",
       "<style scoped>\n",
       "    .dataframe tbody tr th:only-of-type {\n",
       "        vertical-align: middle;\n",
       "    }\n",
       "\n",
       "    .dataframe tbody tr th {\n",
       "        vertical-align: top;\n",
       "    }\n",
       "\n",
       "    .dataframe thead th {\n",
       "        text-align: right;\n",
       "    }\n",
       "</style>\n",
       "<table border=\"1\" class=\"dataframe\">\n",
       "  <thead>\n",
       "    <tr style=\"text-align: right;\">\n",
       "      <th></th>\n",
       "      <th>HIGH_T</th>\n",
       "      <th>LOW_T</th>\n",
       "      <th>PRECIP</th>\n",
       "      <th>BB_COUNT</th>\n",
       "    </tr>\n",
       "    <tr>\n",
       "      <th>Date</th>\n",
       "      <th></th>\n",
       "      <th></th>\n",
       "      <th></th>\n",
       "      <th></th>\n",
       "    </tr>\n",
       "  </thead>\n",
       "  <tbody>\n",
       "    <tr>\n",
       "      <td>2017-04-01</td>\n",
       "      <td>46.0</td>\n",
       "      <td>37.0</td>\n",
       "      <td>0.00</td>\n",
       "      <td>606</td>\n",
       "    </tr>\n",
       "    <tr>\n",
       "      <td>2017-04-02</td>\n",
       "      <td>62.1</td>\n",
       "      <td>41.0</td>\n",
       "      <td>0.00</td>\n",
       "      <td>2021</td>\n",
       "    </tr>\n",
       "    <tr>\n",
       "      <td>2017-04-03</td>\n",
       "      <td>63.0</td>\n",
       "      <td>50.0</td>\n",
       "      <td>0.03</td>\n",
       "      <td>2470</td>\n",
       "    </tr>\n",
       "    <tr>\n",
       "      <td>2017-04-04</td>\n",
       "      <td>51.1</td>\n",
       "      <td>46.0</td>\n",
       "      <td>1.18</td>\n",
       "      <td>723</td>\n",
       "    </tr>\n",
       "    <tr>\n",
       "      <td>2017-04-05</td>\n",
       "      <td>63.0</td>\n",
       "      <td>46.0</td>\n",
       "      <td>0.00</td>\n",
       "      <td>2807</td>\n",
       "    </tr>\n",
       "  </tbody>\n",
       "</table>\n",
       "</div>"
      ],
      "text/plain": [
       "            HIGH_T  LOW_T  PRECIP  BB_COUNT\n",
       "Date                                       \n",
       "2017-04-01    46.0   37.0    0.00       606\n",
       "2017-04-02    62.1   41.0    0.00      2021\n",
       "2017-04-03    63.0   50.0    0.03      2470\n",
       "2017-04-04    51.1   46.0    1.18       723\n",
       "2017-04-05    63.0   46.0    0.00      2807"
      ]
     },
     "execution_count": 35,
     "metadata": {},
     "output_type": "execute_result"
    }
   ],
   "source": [
    "df = pd.read_csv('cycle_data.csv', header=0, infer_datetime_format=True, parse_dates=[0], index_col=[0])\n",
    "df.head()"
   ]
  },
  {
   "cell_type": "code",
   "execution_count": 36,
   "metadata": {},
   "outputs": [
    {
     "data": {
      "text/html": [
       "<div>\n",
       "<style scoped>\n",
       "    .dataframe tbody tr th:only-of-type {\n",
       "        vertical-align: middle;\n",
       "    }\n",
       "\n",
       "    .dataframe tbody tr th {\n",
       "        vertical-align: top;\n",
       "    }\n",
       "\n",
       "    .dataframe thead th {\n",
       "        text-align: right;\n",
       "    }\n",
       "</style>\n",
       "<table border=\"1\" class=\"dataframe\">\n",
       "  <thead>\n",
       "    <tr style=\"text-align: right;\">\n",
       "      <th></th>\n",
       "      <th>HIGH_T</th>\n",
       "      <th>LOW_T</th>\n",
       "      <th>PRECIP</th>\n",
       "      <th>BB_COUNT</th>\n",
       "      <th>MONTH</th>\n",
       "      <th>DAY_OF_WEEK</th>\n",
       "      <th>DAY</th>\n",
       "    </tr>\n",
       "    <tr>\n",
       "      <th>Date</th>\n",
       "      <th></th>\n",
       "      <th></th>\n",
       "      <th></th>\n",
       "      <th></th>\n",
       "      <th></th>\n",
       "      <th></th>\n",
       "      <th></th>\n",
       "    </tr>\n",
       "  </thead>\n",
       "  <tbody>\n",
       "    <tr>\n",
       "      <td>2017-04-01</td>\n",
       "      <td>46.0</td>\n",
       "      <td>37.0</td>\n",
       "      <td>0.00</td>\n",
       "      <td>606</td>\n",
       "      <td>4</td>\n",
       "      <td>5</td>\n",
       "      <td>1</td>\n",
       "    </tr>\n",
       "    <tr>\n",
       "      <td>2017-04-02</td>\n",
       "      <td>62.1</td>\n",
       "      <td>41.0</td>\n",
       "      <td>0.00</td>\n",
       "      <td>2021</td>\n",
       "      <td>4</td>\n",
       "      <td>6</td>\n",
       "      <td>2</td>\n",
       "    </tr>\n",
       "    <tr>\n",
       "      <td>2017-04-03</td>\n",
       "      <td>63.0</td>\n",
       "      <td>50.0</td>\n",
       "      <td>0.03</td>\n",
       "      <td>2470</td>\n",
       "      <td>4</td>\n",
       "      <td>0</td>\n",
       "      <td>3</td>\n",
       "    </tr>\n",
       "    <tr>\n",
       "      <td>2017-04-04</td>\n",
       "      <td>51.1</td>\n",
       "      <td>46.0</td>\n",
       "      <td>1.18</td>\n",
       "      <td>723</td>\n",
       "      <td>4</td>\n",
       "      <td>1</td>\n",
       "      <td>4</td>\n",
       "    </tr>\n",
       "    <tr>\n",
       "      <td>2017-04-05</td>\n",
       "      <td>63.0</td>\n",
       "      <td>46.0</td>\n",
       "      <td>0.00</td>\n",
       "      <td>2807</td>\n",
       "      <td>4</td>\n",
       "      <td>2</td>\n",
       "      <td>5</td>\n",
       "    </tr>\n",
       "  </tbody>\n",
       "</table>\n",
       "</div>"
      ],
      "text/plain": [
       "            HIGH_T  LOW_T  PRECIP  BB_COUNT  MONTH  DAY_OF_WEEK  DAY\n",
       "Date                                                                \n",
       "2017-04-01    46.0   37.0    0.00       606      4            5    1\n",
       "2017-04-02    62.1   41.0    0.00      2021      4            6    2\n",
       "2017-04-03    63.0   50.0    0.03      2470      4            0    3\n",
       "2017-04-04    51.1   46.0    1.18       723      4            1    4\n",
       "2017-04-05    63.0   46.0    0.00      2807      4            2    5"
      ]
     },
     "execution_count": 36,
     "metadata": {},
     "output_type": "execute_result"
    }
   ],
   "source": [
    "ds = df.index.to_series()\n",
    "df['MONTH'] = ds.dt.month\n",
    "df['DAY_OF_WEEK'] = ds.dt.dayofweek\n",
    "df['DAY'] = ds.dt.day\n",
    "df.head()"
   ]
  },
  {
   "cell_type": "code",
   "execution_count": 37,
   "metadata": {},
   "outputs": [],
   "source": [
    "#Create the training and testing data sets.\n",
    "mask = np.random.rand(len(df)) < 0.8\n",
    "df_train = df[mask]\n",
    "df_test = df[~mask]\n",
    "\n",
    "#Setup the regression expression in patsy notation. We are telling patsy that BB_COUNT is our dependent variable and\n",
    "# it depends on the regression variables: DAY, DAY_OF_WEEK, MONTH, HIGH_T, LOW_T and PRECIP.\n",
    "expr = \"\"\"BB_COUNT ~ DAY  + DAY_OF_WEEK + MONTH + HIGH_T + LOW_T + PRECIP\"\"\"\n",
    "\n",
    "#Set up the X and y matrices\n",
    "y_train, X_train = dmatrices(expr, df_train, return_type='dataframe')\n",
    "y_test, X_test = dmatrices(expr, df_test, return_type='dataframe')\n"
   ]
  },
  {
   "cell_type": "code",
   "execution_count": 41,
   "metadata": {},
   "outputs": [
    {
     "data": {
      "text/plain": [
       "<statsmodels.genmod.generalized_linear_model.GLMResultsWrapper at 0x2429fafb648>"
      ]
     },
     "execution_count": 41,
     "metadata": {},
     "output_type": "execute_result"
    }
   ],
   "source": [
    "poisson_training_results = sm.GLM(y_train, X_train, family=sm.families.Poisson()).fit()\n",
    "poisson_training_results"
   ]
  },
  {
   "cell_type": "code",
   "execution_count": 30,
   "metadata": {},
   "outputs": [
    {
     "name": "stdout",
     "output_type": "stream",
     "text": [
      "                 Generalized Linear Model Regression Results                  \n",
      "==============================================================================\n",
      "Dep. Variable:               BB_COUNT   No. Observations:                  170\n",
      "Model:                            GLM   Df Residuals:                      163\n",
      "Model Family:                 Poisson   Df Model:                            6\n",
      "Link Function:                    log   Scale:                          1.0000\n",
      "Method:                          IRLS   Log-Likelihood:                -11611.\n",
      "Date:                Thu, 26 Dec 2019   Deviance:                       21585.\n",
      "Time:                        11:46:59   Pearson chi2:                 2.13e+04\n",
      "No. Iterations:                     6                                         \n",
      "Covariance Type:            nonrobust                                         \n",
      "===============================================================================\n",
      "                  coef    std err          z      P>|z|      [0.025      0.975]\n",
      "-------------------------------------------------------------------------------\n",
      "Intercept       6.9854      0.012    565.274      0.000       6.961       7.010\n",
      "DAY             0.0009      0.000      4.979      0.000       0.001       0.001\n",
      "DAY_OF_WEEK    -0.0294      0.001    -38.760      0.000      -0.031      -0.028\n",
      "MONTH           0.0135      0.001     16.664      0.000       0.012       0.015\n",
      "HIGH_T          0.0262      0.000     73.592      0.000       0.025       0.027\n",
      "LOW_T          -0.0162      0.000    -41.876      0.000      -0.017      -0.015\n",
      "PRECIP         -0.7592      0.008    -98.159      0.000      -0.774      -0.744\n",
      "===============================================================================\n"
     ]
    }
   ],
   "source": [
    "print(poisson_training_results.summary())"
   ]
  },
  {
   "cell_type": "code",
   "execution_count": 31,
   "metadata": {},
   "outputs": [
    {
     "name": "stdout",
     "output_type": "stream",
     "text": [
      "                   mean    mean_se  mean_ci_lower  mean_ci_upper\n",
      "Date                                                            \n",
      "2017-04-04   818.855585   7.682382     803.935985     834.052067\n",
      "2017-04-06  1114.270688   7.452921    1099.758562    1128.974313\n",
      "2017-04-10  3257.515840  14.176508    3229.848559    3285.420122\n",
      "2017-04-14  2534.972333   8.630173    2518.113812    2551.943719\n",
      "2017-04-16  3236.439441  15.551191    3206.102742    3267.063191\n",
      "2017-04-18  2808.927714  10.523618    2788.377345    2829.629539\n",
      "2017-04-25  1034.568810   7.907698    1019.185523    1050.184287\n",
      "2017-04-27  2430.102395   8.841943    2412.834151    2447.494225\n",
      "2017-05-17  3991.848871  18.733806    3955.299636    4028.735841\n",
      "2017-05-18  3523.271764  12.814600    3498.244919    3548.477653\n",
      "2017-06-02  2699.553212   8.233862    2683.463280    2715.739620\n",
      "2017-06-05  2515.969435  10.188158    2496.080045    2536.017308\n",
      "2017-06-15  2649.155396   6.406130    2636.629319    2661.740982\n",
      "2017-06-24  1069.912522  10.708381    1049.128998    1091.107772\n",
      "2017-07-04  3251.055743  10.547544    3230.448524    3271.794416\n",
      "2017-07-05  3270.276746   9.699304    3251.321607    3289.342394\n",
      "2017-07-09  2720.977580   9.023024    2703.350123    2738.719978\n",
      "2017-07-17  3348.543464  11.065635    3326.925304    3370.302098\n",
      "2017-07-18  3336.936517  10.277051    3316.854539    3357.140082\n",
      "2017-07-23  2289.273262  10.036743    2269.685886    2309.029678\n",
      "2017-07-25  2679.191599   8.639575    2662.311742    2696.178479\n",
      "2017-07-31  4116.785126  21.092163    4075.652115    4158.333266\n",
      "2017-08-08  3023.506723   8.406427    3007.075241    3040.027991\n",
      "2017-08-17  3014.039994   6.574825    3001.181081    3026.954002\n",
      "2017-08-18  1418.527416   9.413944    1400.195904    1437.098927\n",
      "2017-08-26  2907.464826   8.474994    2890.901502    2924.123049\n",
      "2017-08-28  3155.706392  11.358840    3133.521821    3178.048024\n",
      "2017-09-01  2775.913980  10.548605    2755.315897    2796.666050\n",
      "2017-09-04  3530.707836  14.480809    3502.439742    3559.204080\n",
      "2017-09-10  2690.307601   9.474592    2671.801684    2708.941698\n",
      "2017-09-11  3674.928573  17.772394    3640.259886    3709.927435\n",
      "2017-09-15  3088.238218   7.261847    3074.038008    3102.504025\n",
      "2017-09-19  2561.827528   7.801810    2546.581807    2577.164521\n",
      "2017-09-24  3582.766114  15.920028    3551.698912    3614.105066\n",
      "2017-09-26  3372.718789  10.960200    3351.305457    3394.268943\n",
      "2017-09-27  3423.136367  10.847510    3401.941526    3444.463257\n",
      "2017-10-02  3504.342716  19.645909    3466.048214    3543.060313\n",
      "2017-10-04  3360.399476  15.109217    3330.916056    3390.143867\n",
      "2017-10-06  2997.375175  10.217927    2977.415161    3017.468997\n",
      "2017-10-12  2275.963062   8.847031    2258.689087    2293.369145\n",
      "2017-10-18  3379.274792  17.355880    3345.428531    3413.463480\n",
      "2017-10-24  2401.089187   9.538856    2382.465971    2419.857977\n",
      "2017-10-25  2542.880412  10.418662    2522.541982    2563.382824\n",
      "2017-10-26  2172.621264  10.968690    2151.229040    2194.226216\n"
     ]
    }
   ],
   "source": [
    "poisson_predictions = poisson_training_results.get_prediction(X_test)\n",
    "#.summary_frame() returns a pandas DataFrame\n",
    "predictions_summary_frame = poisson_predictions.summary_frame()\n",
    "print(predictions_summary_frame)"
   ]
  },
  {
   "cell_type": "code",
   "execution_count": 32,
   "metadata": {},
   "outputs": [
    {
     "data": {
      "image/png": "[encoded data removed]",
      "text/plain": [
       "<Figure size 432x288 with 1 Axes>"
      ]
     },
     "metadata": {
      "needs_background": "light"
     },
     "output_type": "display_data"
    }
   ],
   "source": [
    "predicted_counts=predictions_summary_frame['mean']\n",
    "actual_counts = y_test['BB_COUNT']\n",
    "fig = plt.figure()\n",
    "fig.suptitle('Predicted versus actual bicyclist counts on the Brooklyn bridge')\n",
    "predicted, = plt.plot(X_test.index, predicted_counts, 'go-', label='Predicted counts')\n",
    "actual, = plt.plot(X_test.index, actual_counts, 'ro-', label='Actual counts')\n",
    "plt.legend(handles=[predicted, actual])\n",
    "plt.show()\n"
   ]
  },
  {
   "cell_type": "code",
   "execution_count": 33,
   "metadata": {},
   "outputs": [
    {
     "data": {
      "text/plain": [
       "<Figure size 432x288 with 0 Axes>"
      ]
     },
     "metadata": {},
     "output_type": "display_data"
    },
    {
     "data": {
      "image/png": "[encoded data removed]",
      "text/plain": [
       "<Figure size 432x288 with 1 Axes>"
      ]
     },
     "metadata": {
      "needs_background": "light"
     },
     "output_type": "display_data"
    }
   ],
   "source": [
    "plt.clf()\n",
    "fig = plt.figure()\n",
    "fig.suptitle('Scatter plot of Actual versus Predicted counts')\n",
    "plt.scatter(x=predicted_counts, y=actual_counts, marker='.')\n",
    "plt.xlabel('Predicted counts')\n",
    "plt.ylabel('Actual counts')\n",
    "plt.show()"
   ]
  },
  {
   "cell_type": "code",
   "execution_count": null,
   "metadata": {},
   "outputs": [],
   "source": []
  }
 ],
 "metadata": {
  "kernelspec": {
   "display_name": "Python 3",
   "language": "python",
   "name": "python3"
  },
  "language_info": {
   "codemirror_mode": {
    "name": "ipython",
    "version": 3
   },
   "file_extension": ".py",
   "mimetype": "text/x-python",
   "name": "python",
   "nbconvert_exporter": "python",
   "pygments_lexer": "ipython3",
   "version": "3.7.4"
  }
 },
 "nbformat": 4,
 "nbformat_minor": 2
}
